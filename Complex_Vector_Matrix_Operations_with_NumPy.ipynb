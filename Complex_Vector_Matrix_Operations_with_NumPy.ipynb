{
 "cells": [
  {
   "cell_type": "markdown",
   "id": "a07bd584",
   "metadata": {},
   "source": [
    "# Theory of Complex Vector Spaces\n",
    "Complex vector spaces extend the idea of real vector spaces by allowing vectors to have complex numbers as their components. In these spaces, vectors can be added together and multiplied by complex scalars to produce new vectors. Key operations in complex vector spaces include vector addition, scalar multiplication, vector negation, and complex conjugation."
   ]
  },
  {
   "cell_type": "markdown",
   "id": "f43fc972-23ab-4d81-aa26-c51325dac8f3",
   "metadata": {},
   "source": [
    "# Creating complex column vectors"
   ]
  },
  {
   "cell_type": "code",
   "execution_count": 1,
   "id": "a6e61db4",
   "metadata": {},
   "outputs": [
    {
     "name": "stdout",
     "output_type": "stream",
     "text": [
      "Collecting numpy\n",
      "  Downloading numpy-2.2.2-cp311-cp311-win_amd64.whl.metadata (60 kB)\n",
      "Downloading numpy-2.2.2-cp311-cp311-win_amd64.whl (12.9 MB)\n",
      "   ---------------------------------------- 0.0/12.9 MB ? eta -:--:--\n",
      "   ------- -------------------------------- 2.4/12.9 MB 12.2 MB/s eta 0:00:01\n",
      "   --------------- ------------------------ 5.0/12.9 MB 11.6 MB/s eta 0:00:01\n",
      "   ---------------------- ----------------- 7.3/12.9 MB 11.9 MB/s eta 0:00:01\n",
      "   ------------------------------ --------- 9.7/12.9 MB 11.8 MB/s eta 0:00:01\n",
      "   -------------------------------------- - 12.3/12.9 MB 11.7 MB/s eta 0:00:01\n",
      "   ---------------------------------------  12.8/12.9 MB 11.7 MB/s eta 0:00:01\n",
      "   ---------------------------------------  12.8/12.9 MB 11.7 MB/s eta 0:00:01\n",
      "   ---------------------------------------- 12.9/12.9 MB 8.7 MB/s eta 0:00:00\n",
      "Installing collected packages: numpy\n",
      "Successfully installed numpy-2.2.2\n",
      "Note: you may need to restart the kernel to use updated packages.\n"
     ]
    }
   ],
   "source": [
    "%pip install numpy"
   ]
  },
  {
   "cell_type": "code",
   "execution_count": 2,
   "id": "029f08ba-1cdc-4928-9631-f62c51ab7aa5",
   "metadata": {},
   "outputs": [
    {
     "name": "stdout",
     "output_type": "stream",
     "text": [
      "Matrix:\n",
      " [[2 3]\n",
      " [1 4]]\n",
      "\n",
      "Vector:\n",
      " [5 6]\n",
      "\n",
      "Result of multiplication:\n",
      " [28 29]\n"
     ]
    }
   ],
   "source": [
    "import numpy as np\n",
    "\n",
    "# Define a 2x2 square matrix\n",
    "matrix = np.array([[2, 3],\n",
    "                   [1, 4]])\n",
    "\n",
    "# Define a vector of size 2\n",
    "vector = np.array([5, 6])\n",
    "\n",
    "# Multiply the matrix by the vector\n",
    "result = np.dot(matrix, vector)\n",
    "\n",
    "# Display the result\n",
    "print(\"Matrix:\\n\", matrix)\n",
    "print(\"\\nVector:\\n\", vector)\n",
    "print(\"\\nResult of multiplication:\\n\", result)\n"
   ]
  },
  {
   "cell_type": "markdown",
   "id": "975c2284",
   "metadata": {},
   "source": [
    "## Manipulating Complex Column Vectors using NumPy\n",
    "Here we demonstrate how to manipulate complex column vectors using NumPy, including operations like sum, negation, multiplication by a scalar, transpose, adjunct, and conjugate."
   ]
  },
  {
   "cell_type": "code",
   "execution_count": 4,
   "id": "e8058abe",
   "metadata": {},
   "outputs": [
    {
     "data": {
      "text/plain": [
       "(array([[3.+2.j],\n",
       "        [8.-2.j],\n",
       "        [5.-3.j]]),\n",
       " array([[-2.-3.j],\n",
       "        [-5.+4.j],\n",
       "        [-1.-1.j]]),\n",
       " array([[ 1.+8.j],\n",
       "        [14.-3.j],\n",
       "        [ 1.+3.j]]),\n",
       " array([[2.+3.j, 5.-4.j, 1.+1.j]]),\n",
       " array([[2.-3.j, 5.+4.j, 1.-1.j]]),\n",
       " array([[2.-3.j],\n",
       "        [5.+4.j],\n",
       "        [1.-1.j]]))"
      ]
     },
     "execution_count": 4,
     "metadata": {},
     "output_type": "execute_result"
    }
   ],
   "source": [
    "\n",
    "import numpy as np\n",
    "\n",
    "# Define two complex column vectors\n",
    "v1 = np.array([[2+3j], [5-4j], [1+1j]])\n",
    "v2 = np.array([[1-1j], [3+2j], [4-4j]])\n",
    "\n",
    "# Sum\n",
    "sum_v = v1 + v2\n",
    "\n",
    "# Negation\n",
    "neg_v1 = -v1\n",
    "\n",
    "# Multiplication by a scalar\n",
    "scalar = 2 + 1j\n",
    "mult_v1 = v1 * scalar\n",
    "\n",
    "# Transpose\n",
    "transpose_v1 = v1.T\n",
    "\n",
    "# Adjunct (Conjugate transpose)\n",
    "adjunct_v1 = v1.T.conj()\n",
    "\n",
    "# Conjugate\n",
    "conjugate_v1 = np.conjugate(v1)\n",
    "\n",
    "(sum_v, neg_v1, mult_v1, transpose_v1, adjunct_v1, conjugate_v1)\n"
   ]
  },
  {
   "cell_type": "markdown",
   "id": "995ae5fc",
   "metadata": {},
   "source": [
    "# Theory of Vector Spaces using Matrices\n",
    "In the context of matrices, vector spaces can be defined where each vector is a matrix of a particular size. Operations on these matrix-vector spaces include matrix addition, scalar multiplication, matrix negation, transpose, adjunct, and conjugate. In this section, we focus on square matrices of size 3x3."
   ]
  },
  {
   "cell_type": "markdown",
   "id": "9385c1f0",
   "metadata": {},
   "source": [
    "## Manipulating Square Matrices using NumPy\n",
    "Examples of how to manipulate 3x3 square matrices using NumPy, showing operations such as sum, negation, multiplication by a scalar, conjugate, transpose, and adjunct."
   ]
  },
  {
   "cell_type": "code",
   "execution_count": 5,
   "id": "b81ecc57",
   "metadata": {},
   "outputs": [
    {
     "data": {
      "text/plain": [
       "(array([[3.+3.j, 6.+0.j, 3.-3.j],\n",
       "        [1.+1.j, 2.+5.j, 6.-2.j],\n",
       "        [7.+3.j, 8.-2.j, 5.+3.j]]),\n",
       " array([[-2.-3.j, -4.+1.j, -0.-0.j],\n",
       "        [-1.-1.j, -3.-3.j, -5.-0.j],\n",
       "        [-4.-0.j, -6.+2.j, -1.+1.j]]),\n",
       " array([[-0.5+2.5j,  2.5+1.5j,  0. +0.j ],\n",
       "        [ 0. +1.j ,  0. +3.j ,  2.5+2.5j],\n",
       "        [ 2. +2.j ,  4. +2.j ,  1. +0.j ]]),\n",
       " array([[2.-3.j, 4.+1.j, 0.-0.j],\n",
       "        [1.-1.j, 3.-3.j, 5.-0.j],\n",
       "        [4.-0.j, 6.+2.j, 1.+1.j]]),\n",
       " array([[2.+3.j, 1.+1.j, 4.+0.j],\n",
       "        [4.-1.j, 3.+3.j, 6.-2.j],\n",
       "        [0.+0.j, 5.+0.j, 1.-1.j]]),\n",
       " array([[2.-3.j, 1.-1.j, 4.-0.j],\n",
       "        [4.+1.j, 3.-3.j, 6.+2.j],\n",
       "        [0.-0.j, 5.-0.j, 1.+1.j]]))"
      ]
     },
     "execution_count": 5,
     "metadata": {},
     "output_type": "execute_result"
    }
   ],
   "source": [
    "\n",
    "# Define two 3x3 complex matrices\n",
    "m1 = np.array([[2+3j, 4-1j, 0], \n",
    "               [1+1j, 3+3j, 5], \n",
    "               [4, 6-2j, 1-1j]])\n",
    "m2 = np.array([[1, 2+1j, 3-3j], \n",
    "               [0, -1+2j, 1-2j], \n",
    "               [3+3j, 2, 4+4j]])\n",
    "\n",
    "# Sum\n",
    "sum_m = m1 + m2\n",
    "\n",
    "# Negation\n",
    "neg_m1 = -m1\n",
    "\n",
    "# Multiplication by a scalar\n",
    "scalar = 0.5 + 0.5j\n",
    "mult_m1 = m1 * scalar\n",
    "\n",
    "# Conjugate\n",
    "conjugate_m1 = np.conjugate(m1)\n",
    "\n",
    "# Transpose\n",
    "transpose_m1 = m1.T\n",
    "\n",
    "# Adjunct (Conjugate transpose)\n",
    "adjunct_m1 = m1.T.conj()\n",
    "\n",
    "(sum_m, neg_m1, mult_m1, conjugate_m1, transpose_m1, adjunct_m1)\n"
   ]
  },
  {
   "cell_type": "markdown",
   "id": "ed909545-8a5c-4cca-85f7-48688b597598",
   "metadata": {},
   "source": [
    "## Checking the Dimension of a Matrix\n",
    "We can check the dimension of a matrix using the `.shape` attribute."
   ]
  },
  {
   "cell_type": "code",
   "execution_count": 6,
   "id": "0930dc10-af6d-427f-bbcb-75bfaf051db5",
   "metadata": {},
   "outputs": [
    {
     "data": {
      "text/plain": [
       "(3, 3)"
      ]
     },
     "execution_count": 6,
     "metadata": {},
     "output_type": "execute_result"
    }
   ],
   "source": [
    "# Checking the dimension of matrix1\n",
    "m1.shape"
   ]
  },
  {
   "cell_type": "markdown",
   "id": "b3fe896b",
   "metadata": {},
   "source": [
    "## Action of a Matrix on a Vector\n",
    "Finally, examples of how to use Python to multiply a 3x3 square matrix by a 3x1 column vector."
   ]
  },
  {
   "cell_type": "code",
   "execution_count": 7,
   "id": "e514d047",
   "metadata": {},
   "outputs": [
    {
     "data": {
      "text/plain": [
       "array([[11. -9.j],\n",
       "       [31.+13.j],\n",
       "       [32.-22.j]])"
      ]
     },
     "execution_count": 7,
     "metadata": {},
     "output_type": "execute_result"
    }
   ],
   "source": [
    "\n",
    "# Multiplying a 3x3 matrix by a 3x1 vector\n",
    "result = np.dot(m1, v1)\n",
    "result\n"
   ]
  },
  {
   "cell_type": "markdown",
   "id": "af4c6a03",
   "metadata": {},
   "source": [
    "# Exercises on Complex Vectors and Matrices with Concrete Cases\n",
    "\n",
    "This set of exercises focuses on operations with complex column vectors and complex square matrices, including concrete cases with vectors and matrices written in LaTeX format.\n",
    "\n",
    "## Complex Column Vector Operations\n",
    "\n",
    "### Exercise 1: Sum of Two Complex Vectors\n",
    "Given two complex vectors \n",
    "$ v1 = \\begin{bmatrix} 1 + 2i \\\\ 3 - i \\end{bmatrix} $ \n",
    "and \n",
    "$ v2 = \\begin{bmatrix} 2 - i \\\\ 4 + 2i \\end{bmatrix} $, \n",
    "find their sum.\n",
    "\n",
    "## Resultado:\n",
    "\n",
    "El resultado de la suma de los dos vectores es:\n",
    "$ v1 + v2 = \\begin{bmatrix} 3 + i \\\\ 7 + i \\end{bmatrix} $"
   ]
  },
  {
   "cell_type": "code",
   "execution_count": 10,
   "id": "b7e8fe9e",
   "metadata": {},
   "outputs": [
    {
     "name": "stdout",
     "output_type": "stream",
     "text": [
      "v1 =  [[1.+2.j]\n",
      " [3.-1.j]]\n",
      "v2 =  [[1.+2.j]\n",
      " [3.-1.j]]\n",
      "v1 + v2 =  [[3.+1.j]\n",
      " [7.+1.j]]\n"
     ]
    }
   ],
   "source": [
    "import numpy as np\n",
    "\n",
    "# Definir los dos vectores\n",
    "v1 = np.array([[1+2j], [3-1j]])\n",
    "v2 = np.array([[2-1j], [4+2j]])\n",
    "print(\"v1 = \",v1)\n",
    "print(\"v2 = \",v1)\n",
    "# Suma\n",
    "sum_v = v1 + v2\n",
    "print(\"v1 + v2 = \",sum_v)"
   ]
  },
  {
   "cell_type": "markdown",
   "id": "c445d918",
   "metadata": {},
   "source": [
    "### Exercise 2: Negation of a Complex Vector\n",
    "Given a complex vector \n",
    "$ v = \\begin{bmatrix} 2 + 3i \\\\ 1 - 2i \\end{bmatrix} $, \n",
    "find its negation.\n",
    "\n",
    "## Resultado:\n",
    "\n",
    "El resultado de la negacion del vector es:\n",
    "$ - v = \\begin{bmatrix} -2 - 3i \\\\ -1 + 2i \\end{bmatrix} $"
   ]
  },
  {
   "cell_type": "code",
   "execution_count": null,
   "id": "267b9bec",
   "metadata": {},
   "outputs": [
    {
     "name": "stdout",
     "output_type": "stream",
     "text": [
      "v =  [[2.+3.j]\n",
      " [1.-2.j]]\n",
      "-(v) =  [[-2.-3.j]\n",
      " [-1.+2.j]]\n"
     ]
    }
   ],
   "source": [
    "import numpy as np\n",
    "\n",
    "# Definir un vector columna complejo\n",
    "v = np.array([[2+3j], [1-2j]])\n",
    "# Negacion\n",
    "neg_v = -v\n",
    "print(\"v = \",v)\n",
    "print(\"-(v) = \",neg_v)"
   ]
  },
  {
   "cell_type": "markdown",
   "id": "75ee5956",
   "metadata": {},
   "source": [
    "### Exercise 3: Multiplication of a Complex Vector by a Scalar\n",
    "Multiply the complex vector \n",
    "$ v = \\begin{bmatrix} 1 - i \\\\ 2 + 2i \\end{bmatrix} $ \n",
    "by the complex scalar $$ 3 + i $$.\n",
    "\n",
    "## Resultado:\n",
    "\n",
    "El resultado de la multiplicacion del vector por un escalar es:\n",
    "$  v = \\begin{bmatrix} 4 - 2i \\\\ 4 + 8i \\end{bmatrix} $"
   ]
  },
  {
   "cell_type": "code",
   "execution_count": null,
   "id": "fd919255",
   "metadata": {},
   "outputs": [
    {
     "name": "stdout",
     "output_type": "stream",
     "text": [
      "v =  [[1.-1.j]\n",
      " [2.+2.j]]\n",
      "Escalar =  (3+1j)\n",
      "Escalar*v =  [[4.-2.j]\n",
      " [4.+8.j]]\n"
     ]
    }
   ],
   "source": [
    "# Definir un vector columna complejo\n",
    "v = np.array([[1-1j], [2+2j]])\n",
    "\n",
    "# Multiplicacion por un escalar\n",
    "escalar = 3 + 1j\n",
    "mult_v = v * escalar\n",
    "\n",
    "print(\"v = \",v)\n",
    "print(\"Escalar = \",escalar)\n",
    "print(\"Escalar*v = \",mult_v)"
   ]
  },
  {
   "cell_type": "markdown",
   "id": "c1c53c8e",
   "metadata": {},
   "source": [
    "### Exercise 4: Transpose of a Complex Vector\n",
    "Find the transpose of the complex vector \n",
    "$ v = \\begin{bmatrix} 2 - i \\\\ 3 + 4i \\end{bmatrix} $.\n",
    "\n",
    "## Resultado:\n",
    "\n",
    "El resultado de trasponer el vector es:\n",
    "$  v = \\begin{bmatrix} [2- i] [3 + 4i] \\end{bmatrix} $"
   ]
  },
  {
   "cell_type": "code",
   "execution_count": 15,
   "id": "4d7535d4",
   "metadata": {},
   "outputs": [
    {
     "name": "stdout",
     "output_type": "stream",
     "text": [
      "v =  [[2.-1.j]\n",
      " [3.+4.j]]\n",
      "transponer =  [[2.-1.j 3.+4.j]]\n"
     ]
    }
   ],
   "source": [
    "# Definir un vector columna complejo\n",
    "v = np.array([[2-1j], [3+4j]])\n",
    "\n",
    "# Transponer\n",
    "transponer_v = v.T\n",
    "\n",
    "print(\"v = \",v)\n",
    "print(\"transponer = \",transponer_v)"
   ]
  },
  {
   "cell_type": "markdown",
   "id": "46e0923b",
   "metadata": {},
   "source": [
    "### Exercise 5: Conjugate of a Complex Vector\n",
    "Compute the conjugate of the complex vector \n",
    "$ v = \\begin{bmatrix} 1 + i \\\\ 2 - 3i \\end{bmatrix} $.\n",
    "\n",
    "## Resultado:\n",
    "\n",
    "El resultado de conjugar el vector es:\n",
    "$  v = \\begin{bmatrix} 1 - i \\\\ 2 + 3i \\end{bmatrix} $"
   ]
  },
  {
   "cell_type": "code",
   "execution_count": 17,
   "id": "01e9aab4",
   "metadata": {},
   "outputs": [
    {
     "name": "stdout",
     "output_type": "stream",
     "text": [
      "v =  [[1.+1.j]\n",
      " [2.-3.j]]\n",
      "conjugar =  [[1.-1.j]\n",
      " [2.+3.j]]\n"
     ]
    }
   ],
   "source": [
    "# Definir un vector columna complejo\n",
    "v = np.array([[1+1j], [2-3j]])\n",
    "\n",
    "# Conjugar\n",
    "conjugar_v = np.conjugate(v)\n",
    "\n",
    "print(\"v = \",v)\n",
    "print(\"conjugar = \",conjugar_v)"
   ]
  },
  {
   "cell_type": "markdown",
   "id": "1b5e8410",
   "metadata": {},
   "source": [
    "### Exercise 6: Adjunct (Conjugate Transpose) of a Complex Vector\n",
    "Find the adjunct (or conjugate transpose) of the complex vector \n",
    "$ v = \\begin{bmatrix} 1 - 2i \\\\ 3 + i \\end{bmatrix} $.\n",
    "\n",
    "## Resultado:\n",
    "\n",
    "El resultado de la adjunta del vector es:\n",
    "$  Adj(v) = \\begin{bmatrix} [1 + 2i] [3 - i] \\end{bmatrix} $"
   ]
  },
  {
   "cell_type": "code",
   "execution_count": 19,
   "id": "cb39e001",
   "metadata": {},
   "outputs": [
    {
     "name": "stdout",
     "output_type": "stream",
     "text": [
      "v1 =  [[1.-2.j]\n",
      " [3.+1.j]]\n",
      "adjunta =  [[1.+2.j 3.-1.j]]\n"
     ]
    }
   ],
   "source": [
    "# Definir un vector columna complejo\n",
    "v = np.array([[1-2j], [3+1j]])\n",
    "\n",
    "# Adjunta (Conjugar transponer)\n",
    "adjunta_v = v1.T.conj()\n",
    "\n",
    "print(\"v1 = \",v1)\n",
    "print(\"adjunta = \",adjunta_v)"
   ]
  },
  {
   "cell_type": "markdown",
   "id": "0e7774cf",
   "metadata": {},
   "source": [
    "## Complex Square Matrix Operations\n",
    "\n",
    "### Exercise 7: Sum of Two Complex Matrices\n",
    "Given two complex matrices \n",
    "$ m1 = \\begin{bmatrix} 1 + i & 2 - i \\\\ 3 + 2i & 4 \\end{bmatrix} $\n",
    "and \n",
    "$ m2 = \\begin{bmatrix} 2 - 3i & 1 \\\\ i & 2 + 2i \\end{bmatrix} $, \n",
    "calculate their sum.\n",
    "\n",
    "## Resultado:\n",
    "\n",
    "El resultado de sumar dos matrices complejas es:\n",
    "$ m3 = \\begin{bmatrix} 3 - 2i & 4 + 2i \\\\ 2  & 6 + 2i \\end{bmatrix} $"
   ]
  },
  {
   "cell_type": "code",
   "execution_count": 20,
   "id": "46651ce8",
   "metadata": {},
   "outputs": [
    {
     "name": "stdout",
     "output_type": "stream",
     "text": [
      "m1 =  [[1.+1.j 3.+2.j]\n",
      " [2.-1.j 4.+0.j]]\n",
      "m2 =  [[2.-3.j 1.+0.j]\n",
      " [0.+1.j 2.+2.j]]\n",
      "m1+m2 =  [[3.-2.j 4.+2.j]\n",
      " [2.+0.j 6.+2.j]]\n"
     ]
    }
   ],
   "source": [
    "# Definir dos matrices complejas de 2x2\n",
    "m1 = np.array([[1+1j, 3+2j], \n",
    "               [2-1j, 4]])\n",
    "m2 = np.array([[2-3j, 1], \n",
    "               [1j, 2+2j]])\n",
    "\n",
    "# Suma\n",
    "sum_m3 = m1 + m2\n",
    "\n",
    "print(\"m1 = \",m1)\n",
    "print(\"m2 = \",m2)\n",
    "print(\"m1+m2 = \",sum_m3)"
   ]
  },
  {
   "cell_type": "markdown",
   "id": "564d4220",
   "metadata": {},
   "source": [
    "### Exercise 8: Negation of a Complex Matrix\n",
    "Find the negation of the complex matrix \n",
    "$ m = \\begin{bmatrix} 2 + i & 3 \\\\ 1 - i & 2 + 2i \\end{bmatrix} $.\n",
    "\n",
    "## Resultado:\n",
    "\n",
    "El resultado de la negacion de la matriz compleja es:\n",
    "$ -m = \\begin{bmatrix} -2 - i & 3- \\\\ -1 + i & -2 - 2i \\end{bmatrix} $."
   ]
  },
  {
   "cell_type": "code",
   "execution_count": 21,
   "id": "0f4b4cb1",
   "metadata": {},
   "outputs": [
    {
     "name": "stdout",
     "output_type": "stream",
     "text": [
      "m =  [[2.+1.j 3.+0.j]\n",
      " [1.-1.j 2.+2.j]]\n",
      "-m =  [[-2.-1.j -3.-0.j]\n",
      " [-1.+1.j -2.-2.j]]\n"
     ]
    }
   ],
   "source": [
    "# Definir una matriz complejas de 2x2\n",
    "m = np.array([[2+1j, 3], \n",
    "               [1-1j, 2+2j]])\n",
    "# Negation\n",
    "neg_m = -m\n",
    "\n",
    "print(\"m = \",m)\n",
    "print(\"-m = \",neg_m)"
   ]
  },
  {
   "cell_type": "markdown",
   "id": "3a5ef4df",
   "metadata": {},
   "source": [
    "### Exercise 9: Multiplication of a Complex Matrix by a Scalar\n",
    "Multiply the complex matrix \n",
    "$ m = \\begin{bmatrix} 1 - i & 2 \\\\ 3 + i & 4 - 2i \\end{bmatrix} $ \n",
    "by the complex scalar $$ 2 + 3i $$.\n",
    "\n",
    "## Resultado:\n",
    "\n",
    "El resultado de multiplicar la matriz compleja por un escalar es:\n",
    "$ (2+3i) * m = \\begin{bmatrix} 5 + 1i & 4 + 6i \\\\ 3 + 11i & 14 + 8i \\end{bmatrix} $."
   ]
  },
  {
   "cell_type": "code",
   "execution_count": 22,
   "id": "fd58e53b",
   "metadata": {},
   "outputs": [
    {
     "name": "stdout",
     "output_type": "stream",
     "text": [
      "m =  [[1.-1.j 2.+0.j]\n",
      " [3.+1.j 4.-2.j]]\n",
      "escalar * m =  [[ 5. +1.j  4. +6.j]\n",
      " [ 3.+11.j 14. +8.j]]\n"
     ]
    }
   ],
   "source": [
    "# Definir una matriz complejas de 2x2\n",
    "m = np.array([[1 - 1j, 2], \n",
    "               [3 + 1j, 4 - 2j]])\n",
    "# Multiplicacion por un escalar\n",
    "escalar = 2 + 3j\n",
    "mult_m = m * escalar\n",
    "\n",
    "print(\"m = \",m)\n",
    "print(\"escalar * m = \",mult_m)"
   ]
  },
  {
   "cell_type": "markdown",
   "id": "37b00efb",
   "metadata": {},
   "source": [
    "\n",
    "### Exercise 10: Conjugate of a Complex Matrix\n",
    "Compute the conjugate of the complex matrix \n",
    "$ m = \\begin{bmatrix} 1 + i & 2 \\\\ 3 - i & 4 + 2i \\end{bmatrix} $.\n",
    "\n",
    "## Resultado:\n",
    "\n",
    "El resultado de conjugar la matriz compleja es:\n",
    "$ m = \\begin{bmatrix} 1 - i & 2 \\\\ 3 + i & 4 - 2i \\end{bmatrix} $.\n"
   ]
  },
  {
   "cell_type": "code",
   "execution_count": 23,
   "id": "780a1334",
   "metadata": {},
   "outputs": [
    {
     "name": "stdout",
     "output_type": "stream",
     "text": [
      "m =  [[1.+1.j 2.+0.j]\n",
      " [3.-1.j 4.+2.j]]\n",
      "C(m) =  [[1.-1.j 2.-0.j]\n",
      " [3.+1.j 4.-2.j]]\n"
     ]
    }
   ],
   "source": [
    "# Definir una matriz complejas de 2x2\n",
    "m = np.array([[1+1j, 2], \n",
    "               [3-1j, 4+2j]])\n",
    "\n",
    "# Conjugar\n",
    "conjugate_m = np.conjugate(m)\n",
    "\n",
    "print(\"m = \",m)\n",
    "print(\"C(m) = \",conjugate_m)"
   ]
  },
  {
   "cell_type": "markdown",
   "id": "4b12ad84",
   "metadata": {},
   "source": [
    "### Exercise 11: Transpose of a Complex Matrix\n",
    "Find the transpose of the complex matrix \n",
    "$ m = \\begin{bmatrix} 1 - i & 2 + 2i \\\\ 3 & 4 - i \\end{bmatrix} $.\n",
    "\n",
    "\n",
    "## Resultado:\n",
    "\n",
    "El resultado de transponer la matriz compleja es:\n",
    "$ T(m) = \\begin{bmatrix} 1 - i & 3 \\\\ 2 + 2i & 4 - i \\end{bmatrix} $."
   ]
  },
  {
   "cell_type": "code",
   "execution_count": 24,
   "id": "417d9d60",
   "metadata": {},
   "outputs": [
    {
     "name": "stdout",
     "output_type": "stream",
     "text": [
      "m =  [[1.-1.j 2.+2.j]\n",
      " [3.+0.j 4.-1.j]]\n",
      "T(m) =  [[1.-1.j 3.+0.j]\n",
      " [2.+2.j 4.-1.j]]\n"
     ]
    }
   ],
   "source": [
    "# Definir una matriz complejas de 2x2\n",
    "m = np.array([[1-1j, 2+2j], \n",
    "               [3, 4-1j]])\n",
    "\n",
    "# Transponer\n",
    "transponer_m = m.T\n",
    "\n",
    "print(\"m = \",m)\n",
    "print(\"T(m) = \",transponer_m)"
   ]
  },
  {
   "cell_type": "markdown",
   "id": "7863a3b5",
   "metadata": {},
   "source": [
    "### Exercise 12: Adjunct (Conjugate Transpose) of a Complex Matrix\n",
    "Calculate the adjunct (or conjugate transpose) of the complex matrix \n",
    "$ m = \\begin{bmatrix} 1 + 2i & 3 - i \\\\ 4 & 5 + i \\end{bmatrix} $.\n",
    "\n",
    "## Resultado:\n",
    "\n",
    "El resultado de la adjunta de la matriz compleja es:\n",
    "$ Adj(m) = \\begin{bmatrix} 1 - 2i & 4 \\\\ 3 + i & 5  - i \\end{bmatrix} $."
   ]
  },
  {
   "cell_type": "code",
   "execution_count": 26,
   "id": "5ca72392",
   "metadata": {},
   "outputs": [
    {
     "name": "stdout",
     "output_type": "stream",
     "text": [
      "m =  [[1.+2.j 3.-1.j]\n",
      " [4.+0.j 5.+1.j]]\n",
      "Adj(m) =  [[1.-2.j 4.-0.j]\n",
      " [3.+1.j 5.-1.j]]\n"
     ]
    }
   ],
   "source": [
    "# Definir una matriz complejas de 2x2\n",
    "m = np.array([[1+2j, 3-1j], \n",
    "               [4, 5+1j]])\n",
    "\n",
    "# Adjunta (Conjugar transponer)\n",
    "adjunta_m = m.T.conj()\n",
    "\n",
    "print(\"m = \",m)\n",
    "print(\"Adj(m) = \",adjunta_m)"
   ]
  },
  {
   "cell_type": "markdown",
   "id": "e3874bfa",
   "metadata": {},
   "source": [
    "### Exercise 13: Checking the Dimensions of a Matrix\n",
    "Determine the dimensions of the complex matrix \n",
    "$ m = \\begin{bmatrix} 1 - i & 2 \\\\ 3 + 2i & 4 - i \\end{bmatrix} $.\n",
    "\n",
    "## Resultado:\n",
    "\n",
    "El resultado de la dimension de la matriz compleja es: Dim (m) = (2,2)"
   ]
  },
  {
   "cell_type": "code",
   "execution_count": 27,
   "id": "168763a2",
   "metadata": {},
   "outputs": [
    {
     "name": "stdout",
     "output_type": "stream",
     "text": [
      "m =  [[1.-1.j 2.+0.j]\n",
      " [3.+2.j 4.-1.j]]\n",
      "Dim(m) =  (2, 2)\n"
     ]
    }
   ],
   "source": [
    "# Definir una matriz complejas de 2x2\n",
    "m = np.array([[1-1j, 2], \n",
    "               [3+2j, 4-1j]])\n",
    "dimension_m = m.shape\n",
    "print(\"m = \",m)\n",
    "print(\"Dim(m) = \",dimension_m)"
   ]
  },
  {
   "cell_type": "markdown",
   "id": "2eb8c8ed",
   "metadata": {},
   "source": [
    "## Multiplication of Matrices and Vectors\n",
    "\n",
    "### Exercise 14: Multiplying a Complex Square Matrix by a Complex Column Vector\n",
    "Multiply the complex square matrix \n",
    "$ m = \\begin{bmatrix} 1 + i & 2 - i \\\\ 3 & 4 + i \\end{bmatrix} $ \n",
    "by the complex column vector \n",
    "$ v = \\begin{bmatrix} 2 - i \\\\ 1 + 3i \\end{bmatrix} $.\n",
    "\n",
    "## Resultado:\n",
    "\n",
    "El resultado de multiplicar la matriz compleja por un vector es:\n",
    "$ m * v = \\begin{bmatrix} 8 + 6i \\\\ 7 + 10i \\end{bmatrix} $."
   ]
  },
  {
   "cell_type": "code",
   "execution_count": 30,
   "id": "9b6eda6c",
   "metadata": {},
   "outputs": [
    {
     "name": "stdout",
     "output_type": "stream",
     "text": [
      "m =  [[1.+1.j 2.-1.j]\n",
      " [3.+0.j 4.+1.j]]\n",
      "v =  [[2.-1.j]\n",
      " [1.+3.j]]\n",
      "m * v =  [[8. +6.j]\n",
      " [7.+10.j]]\n"
     ]
    }
   ],
   "source": [
    "# Definir una matriz complejas de 2x2\n",
    "m = np.array([[1+1j, 2-1j], \n",
    "               [3, 4+1j]])\n",
    "# Definir un vector columna complejo\n",
    "v = np.array([[2-1j], [1+3j]])\n",
    "resultado = np.dot(m, v)\n",
    "\n",
    "print(\"m = \",m)\n",
    "print(\"v = \",v)\n",
    "print(\"m * v = \",resultado)"
   ]
  }
 ],
 "metadata": {
  "kernelspec": {
   "display_name": ".venv",
   "language": "python",
   "name": "python3"
  },
  "language_info": {
   "codemirror_mode": {
    "name": "ipython",
    "version": 3
   },
   "file_extension": ".py",
   "mimetype": "text/x-python",
   "name": "python",
   "nbconvert_exporter": "python",
   "pygments_lexer": "ipython3",
   "version": "3.11.6"
  }
 },
 "nbformat": 4,
 "nbformat_minor": 5
}
